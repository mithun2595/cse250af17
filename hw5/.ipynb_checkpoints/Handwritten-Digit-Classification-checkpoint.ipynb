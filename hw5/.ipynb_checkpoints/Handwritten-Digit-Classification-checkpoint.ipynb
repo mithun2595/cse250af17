{
 "cells": [
  {
   "cell_type": "markdown",
   "metadata": {},
   "source": [
    "# **Data Extraction & Feature Modeling**  \n",
    "The given files `train3.txt` and `train5.txt` contain 8 x 8 matrix indicating whether a bit is on or off on the bitmap image of handwritten digit (either 3 or 5). Let's read these files into a combined list and shuffle the data randomly while keeping track of the bitmaps of 3 & 5. Post shuffling, let's split the combined list into features & labels.   \n",
    "\n",
    "**Features - ** Feature vector for our problem can be a 1 x 64 vector with each element denoting a pixel in our 8 x 8 bmp image being set or no. Designed such an extensive feature vector is feasible because of the lesser dimension of our input image. If our input image were a huge 1920 x 2048 HD image, the feature vector length is of the order of 10^8 which is not good. Maybe we can summarize the very high dimensional features using fewer dimensions through PCA and use the reduced feature vector for classification. When we look closely into our images we can see that the majority of the corners are always OFF and those will not influence the output of our classifier. These kind of redundant informations will be filtered by PCA for a smaller dimensional feature vector.  \n",
    "  \n",
    "**Labels - ** Labels for our problem are 1 and 0, 1 if the image is classified as a handwritten 3 and 0 if the image is classified as a handwritten 5."
   ]
  },
  {
   "cell_type": "code",
   "execution_count": 186,
   "metadata": {
    "collapsed": true
   },
   "outputs": [],
   "source": [
    "Xcomby = []\n",
    "\n",
    "with open('new_train3.txt') as f:\n",
    "    content = f.readlines()\n",
    "    \n",
    "content = [line.strip() for line in content]\n",
    "for line in content:\n",
    "    datum = line.split(\" \")\n",
    "    datum = list(map(float,datum))\n",
    "    datum.extend([3])\n",
    "    Xcomby.append(datum)\n",
    "    \n",
    "with open('new_train5.txt') as f:\n",
    "    content = f.readlines()\n",
    "    \n",
    "content = [line.strip() for line in content]\n",
    "for line in content:\n",
    "    datum = line.split(\" \")\n",
    "    datum = list(map(int,datum))\n",
    "    datum.extend([5])\n",
    "    Xcomby.append(datum)\n",
    "    \n",
    "import numpy as np\n",
    "np.random.shuffle(Xcomby)"
   ]
  },
  {
   "cell_type": "code",
   "execution_count": 187,
   "metadata": {
    "collapsed": true
   },
   "outputs": [],
   "source": [
    "train_X = []\n",
    "train_y = []\n",
    "for datum in Xcomby:\n",
    "    train_X.append(datum[:64])\n",
    "    train_y.append(1 if datum[64]==3 else 0)"
   ]
  },
  {
   "cell_type": "markdown",
   "metadata": {},
   "source": [
    "**Initial weight vector**"
   ]
  },
  {
   "cell_type": "code",
   "execution_count": 188,
   "metadata": {
    "collapsed": true
   },
   "outputs": [],
   "source": [
    "theta = [0.0]*64"
   ]
  },
  {
   "cell_type": "markdown",
   "metadata": {},
   "source": [
    "# **Gradient Ascent**\n",
    "\n",
    "We aim to classify the features as labels by trying to find the probability **P(label|features)**. Training our model amounts to finding the values of theta, that maximises the likelihood of label being True given features. We can see our problem as finding the best theta, that maximises the log likelihood of label being true given features. Optimization problems can be solved by many ways. Here we are using gradient ascent for maximization of Log-Likelihood. The update rule for gradient ascent uses a **step-size** which decides how fast the theta converges to maximum. But however, large values of step-size may lead to gradient descent bouncing off away from maxima, and never converging. Thus we need to choose smaller values of step-size, but not to small which might take forever to converge"
   ]
  },
  {
   "cell_type": "code",
   "execution_count": 189,
   "metadata": {
    "collapsed": true
   },
   "outputs": [],
   "source": [
    "from math import exp\n",
    "from math import log\n",
    "\n",
    "def inner(x,y):\n",
    "    return sum([x[i]*y[i] for i in range(len(x))])\n",
    "\n",
    "def sigmoid(x):\n",
    "    return 1.0 / (1 + exp(-x))\n",
    "    \n",
    "def log_likelihood(theta, X, y, lam):\n",
    "    ll = 0.0 \n",
    "    for i in range(len(X)):\n",
    "        logit = inner(X[i], theta)\n",
    "        sig = sigmoid(logit)\n",
    "        if y[i]:\n",
    "            ll += log(sig)\n",
    "        if not y[i]:\n",
    "            ll += log(1-sig)\n",
    "    for k in range(len(theta)):\n",
    "        ll += lam * theta[k] * theta[k]\n",
    "    return ll\n",
    "\n",
    "\n",
    "def gradient_log_likelihood(theta, X, y, lam):\n",
    "    dl = [0.0]*len(theta) \n",
    "    # dl will store the partial derivatives of log_likelihood\n",
    "    # with respect to every possible theta\n",
    "    for j in range(len(theta)):\n",
    "        dl[j] = 0.0\n",
    "        for i in range(len(X)):\n",
    "            logit = inner(X[i], theta)\n",
    "            sig = sigmoid(logit)\n",
    "            if y[i]:\n",
    "                dl[j] += (1-sig)*X[i][j]\n",
    "            if not y[i]:\n",
    "                dl[j] -= sig*X[i][j]\n",
    "        dl[j] += 2*lam*theta[j]\n",
    "    return np.array([x for x in dl])\n",
    "\n",
    "\n",
    "def check_convergence(theta1, theta2):\n",
    "    sum_cc = 0\n",
    "    theta1 = np.array(theta1)\n",
    "    theta2 = np.array(theta2)\n",
    "    sum_cc = sum((theta1-theta2)**2)\n",
    "    return True if sum_cc < 0.0005 else False\n",
    "\n",
    "\n",
    "def gradient_ascent(theta, X, y, regularizer, step_size):\n",
    "    ll_values = []\n",
    "    prev_theta = theta\n",
    "    curr_theta = theta + step_size * \\\n",
    "    gradient_log_likelihood(theta, X, y, regularizer)\n",
    "    while not check_convergence(prev_theta, curr_theta):\n",
    "        prev_theta = curr_theta\n",
    "        ll_value = log_likelihood(curr_theta, X, y, regularizer)\n",
    "        ll_values.append(ll_value)\n",
    "        curr_theta = prev_theta + step_size * \\\n",
    "        gradient_log_likelihood(prev_theta, X, y, regularizer)\n",
    "    return curr_theta, ll_values"
   ]
  },
  {
   "cell_type": "code",
   "execution_count": 190,
   "metadata": {
    "collapsed": true
   },
   "outputs": [],
   "source": [
    "theta,log_likelihood = gradient_ascent(theta,train_X, train_y, 1.0, 0.001)"
   ]
  },
  {
   "cell_type": "markdown",
   "metadata": {},
   "source": [
    "# **Plotting Log-Likelihood**"
   ]
  },
  {
   "cell_type": "code",
   "execution_count": 212,
   "metadata": {},
   "outputs": [
    {
     "data": {
      "image/png": "[encoded data removed]",
      "text/plain": [
       "<matplotlib.figure.Figure at 0x11152c110>"
      ]
     },
     "metadata": {},
     "output_type": "display_data"
    }
   ],
   "source": [
    "import matplotlib.pyplot as plt\n",
    "\n",
    "fig = plt.figure(figsize=(13,10))\n",
    "ax = plt.axes()\n",
    "x = [i+1 for i in range(len(log_likelihood))]\n",
    "\n",
    "plt.plot(x,log_likelihood, \\\n",
    "         label='Iterations = {} Max Log-Likelihood = {}'\\\n",
    "         .format(len(log_likelihood),log_likelihood[len(log_likelihood)-1]))\n",
    "plt.title(\"Plotting Log-likelihood\")\n",
    "plt.xlabel(\"Iterations\")\n",
    "ax.legend(loc=\"lower center\")\n",
    "plt.ylabel(\"log-likelihood\")\n",
    "plt.grid()\n",
    "plt.show()"
   ]
  },
  {
   "cell_type": "markdown",
   "metadata": {},
   "source": [
    "# **Optimal Theta**\n",
    "The theta or weight vector is represented below as 8 x 8 matrix. Intuitively, the weights of pixels which are OFF in most of the samples will be very low when compared to the weights of the pixels that actually contribute to or influence the classifier."
   ]
  },
  {
   "cell_type": "code",
   "execution_count": 219,
   "metadata": {},
   "outputs": [
    {
     "data": {
      "text/plain": [
       "array([[ 0.635,  0.865,  1.063,  1.026,  0.905, -0.023, -0.939, -1.599],\n",
       "       [-0.126, -0.199, -0.179,  0.134, -0.13 , -0.428,  0.68 ,  0.614],\n",
       "       [-1.308, -1.248, -1.168, -0.608, -0.075,  1.46 ,  2.459,  2.009],\n",
       "       [-1.132, -0.888, -0.743,  0.222,  0.721,  0.569,  0.08 ,  0.224],\n",
       "       [-0.334, -0.252, -0.022,  0.319,  0.44 ,  0.503,  0.224,  0.463],\n",
       "       [-0.739,  0.3  , -0.152, -0.431, -0.254,  0.102,  0.123,  0.983],\n",
       "       [-0.422, -0.243, -0.535, -0.352, -0.054,  0.054, -0.301,  0.764],\n",
       "       [ 0.225, -0.397, -0.517, -0.757, -0.35 , -0.459,  0.221,  0.214]])"
      ]
     },
     "execution_count": 219,
     "metadata": {},
     "output_type": "execute_result"
    }
   ],
   "source": [
    "print_theta = theta\n",
    "print_theta = np.round(theta,3)\n",
    "print_theta.reshape(8,8)"
   ]
  },
  {
   "cell_type": "markdown",
   "metadata": {},
   "source": [
    "# **Classifier Evaluation function**\n",
    "The following function takes labels & predictions and calculates the Accuracy & Error Rate of the classifier. The function also returns counts for True Postives, True Negatives, False Positives and False Negatives."
   ]
  },
  {
   "cell_type": "code",
   "execution_count": 230,
   "metadata": {
    "collapsed": true
   },
   "outputs": [],
   "source": [
    "def classifier_evaluation(labels, preds):\n",
    "    tp=tn=fp=fn=acc=0\n",
    "    for label,pred in zip(labels,preds):\n",
    "        if label==1 and pred==1:\n",
    "            tp=tp+1\n",
    "            acc=acc+1\n",
    "        if label==0 and pred==0:\n",
    "            tn=tn+1\n",
    "            acc=acc+1\n",
    "        if label==0 and pred==1:\n",
    "            fp=fp+1\n",
    "        if label==1 and pred==0:\n",
    "            fn=fn+1\n",
    "    accuracy = (acc*1.0)/len(preds)\n",
    "    print \"Accuracy %: \",accuracy * 100\n",
    "    print \"Error Rate %: \",(1-accuracy) * 100\n",
    "    print \"True Positive: \", tp, \"True Negative: \", tn\n",
    "    print \"False Positive: \", fp, \"False Negative: \", fn"
   ]
  },
  {
   "cell_type": "markdown",
   "metadata": {},
   "source": [
    "# **How good is our classifier?**\n",
    "We read files into lists independantly and run our model's weight vector on it to obtain a classification of whether it's 3 or 5. Since the data contains either only 3s or only 5s all the time we record 0s for counts sometimes and that's okay."
   ]
  },
  {
   "cell_type": "code",
   "execution_count": 231,
   "metadata": {
    "collapsed": true
   },
   "outputs": [],
   "source": [
    "test3 = []\n",
    "test5 = []\n",
    "train3 = []\n",
    "train5 = []\n",
    "\n",
    "with open('new_train3.txt') as f:\n",
    "    content = f.readlines()\n",
    "    \n",
    "content = [line.strip() for line in content]\n",
    "for line in content:\n",
    "    datum = line.split(\" \")\n",
    "    datum = list(map(float,datum))\n",
    "    train3.append(datum)\n",
    "\n",
    "with open('new_train5.txt') as f:\n",
    "    content = f.readlines()\n",
    "    \n",
    "content = [line.strip() for line in content]\n",
    "for line in content:\n",
    "    datum = line.split(\" \")\n",
    "    datum = list(map(float,datum))\n",
    "    train5.append(datum)\n",
    "\n",
    "with open('new_test3.txt') as f:\n",
    "    content = f.readlines()\n",
    "    \n",
    "content = [line.strip() for line in content]\n",
    "for line in content:\n",
    "    datum = line.split(\" \")\n",
    "    datum = list(map(float,datum))\n",
    "    test3.append(datum)\n",
    "\n",
    "with open('new_test5.txt') as f:\n",
    "    content = f.readlines()\n",
    "    \n",
    "content = [line.strip() for line in content]\n",
    "for line in content:\n",
    "    datum = line.split(\" \")\n",
    "    datum = list(map(float,datum))\n",
    "    test5.append(datum)"
   ]
  },
  {
   "cell_type": "markdown",
   "metadata": {},
   "source": [
    "**Performance on hw5_train3.txt**"
   ]
  },
  {
   "cell_type": "code",
   "execution_count": 232,
   "metadata": {},
   "outputs": [
    {
     "name": "stdout",
     "output_type": "stream",
     "text": [
      "Accuracy %:  96.2857142857\n",
      "Error Rate %:  3.71428571429\n",
      "True Positive:  674 True Negative:  0\n",
      "False Positive:  0 False Negative:  26\n"
     ]
    }
   ],
   "source": [
    "train3_pred = [1 if sigmoid(inner(d,theta))>0.5 else 0 for d in train3]\n",
    "classifier_evaluation([1]*len(train3), train3_pred)"
   ]
  },
  {
   "cell_type": "markdown",
   "metadata": {},
   "source": [
    "**Performance on hw5_train5.txt**"
   ]
  },
  {
   "cell_type": "code",
   "execution_count": 223,
   "metadata": {},
   "outputs": [
    {
     "name": "stdout",
     "output_type": "stream",
     "text": [
      "Accuracy:  0.95\n",
      "Error Rate:  0.05\n",
      "True Positive:  0 True Negative:  665\n",
      "False Positive:  35 False Negative:  0\n"
     ]
    }
   ],
   "source": [
    "train5_pred = [1 if sigmoid(inner(d,theta))>0.5 else 0 for d in train5]\n",
    "classifier_evaluation([0]*len(train5), train5_pred)"
   ]
  },
  {
   "cell_type": "markdown",
   "metadata": {},
   "source": [
    "**Performance on hw5_test3.txt**"
   ]
  },
  {
   "cell_type": "code",
   "execution_count": 224,
   "metadata": {},
   "outputs": [
    {
     "name": "stdout",
     "output_type": "stream",
     "text": [
      "Accuracy:  0.9525\n",
      "Error Rate:  0.0475\n",
      "True Positive:  381 True Negative:  0\n",
      "False Positive:  0 False Negative:  19\n"
     ]
    }
   ],
   "source": [
    "test3_pred = [1 if sigmoid(inner(d,theta))>0.5 else 0 for d in test3]\n",
    "classifier_evaluation([1]*len(test3), test3_pred)"
   ]
  },
  {
   "cell_type": "markdown",
   "metadata": {},
   "source": [
    "**Performance on hw5_test5.txt**"
   ]
  },
  {
   "cell_type": "code",
   "execution_count": 225,
   "metadata": {},
   "outputs": [
    {
     "name": "stdout",
     "output_type": "stream",
     "text": [
      "Accuracy:  0.955\n",
      "Error Rate:  0.045\n",
      "True Positive:  0 True Negative:  382\n",
      "False Positive:  18 False Negative:  0\n"
     ]
    }
   ],
   "source": [
    "test5_pred = [1 if sigmoid(inner(d,theta))>0.5 else 0 for d in test5]\n",
    "classifier_evaluation([0]*len(test5), test5_pred)"
   ]
  }
 ],
 "metadata": {
  "kernelspec": {
   "display_name": "Python 2",
   "language": "python",
   "name": "python2"
  },
  "language_info": {
   "codemirror_mode": {
    "name": "ipython",
    "version": 2
   },
   "file_extension": ".py",
   "mimetype": "text/x-python",
   "name": "python",
   "nbconvert_exporter": "python",
   "pygments_lexer": "ipython2",
   "version": "2.7.13"
  }
 },
 "nbformat": 4,
 "nbformat_minor": 2
}
