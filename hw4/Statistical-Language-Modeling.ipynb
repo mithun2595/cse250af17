{
 "cells": [
  {
   "cell_type": "code",
   "execution_count": 30,
   "metadata": {
    "collapsed": true
   },
   "outputs": [],
   "source": [
    "import operator\n",
    "import pandas as pd\n",
    "\n",
    "with open('hw4_data/hw4_vocab.txt') as f:\n",
    "    content = f.readlines()\n",
    "vocab = [line.strip() for line in content]\n",
    "\n",
    "with open('hw4_data/hw4_unigram.txt') as f:\n",
    "    content = f.readlines()\n",
    "ug_count = [line.strip() for line in content]\n",
    "ug_count = list(map(float,ug_count))\n",
    "\n",
    "unigram_dict = dict(zip(vocab,ug_count))\n",
    "total_prob = sum(ug_count)"
   ]
  },
  {
   "cell_type": "markdown",
   "metadata": {},
   "source": [
    "# **Unigram Maximum Likelihood Estimates**  \n",
    "Following are the unigram probabilities of all the tokens that start with the letter 'M' sorted in descending order with the most occuring word displayed first."
   ]
  },
  {
   "cell_type": "code",
   "execution_count": 31,
   "metadata": {},
   "outputs": [
    {
     "data": {
      "text/html": [
       "<div>\n",
       "<style>\n",
       "    .dataframe thead tr:only-child th {\n",
       "        text-align: right;\n",
       "    }\n",
       "\n",
       "    .dataframe thead th {\n",
       "        text-align: left;\n",
       "    }\n",
       "\n",
       "    .dataframe tbody tr th {\n",
       "        vertical-align: top;\n",
       "    }\n",
       "</style>\n",
       "<table border=\"1\" class=\"dataframe\">\n",
       "  <thead>\n",
       "    <tr style=\"text-align: right;\">\n",
       "      <th></th>\n",
       "      <th>0</th>\n",
       "      <th>1</th>\n",
       "    </tr>\n",
       "  </thead>\n",
       "  <tbody>\n",
       "    <tr>\n",
       "      <th>0</th>\n",
       "      <td>MILLION</td>\n",
       "      <td>0.002073</td>\n",
       "    </tr>\n",
       "    <tr>\n",
       "      <th>1</th>\n",
       "      <td>MORE</td>\n",
       "      <td>0.001709</td>\n",
       "    </tr>\n",
       "    <tr>\n",
       "      <th>2</th>\n",
       "      <td>MR.</td>\n",
       "      <td>0.001442</td>\n",
       "    </tr>\n",
       "    <tr>\n",
       "      <th>3</th>\n",
       "      <td>MOST</td>\n",
       "      <td>0.000788</td>\n",
       "    </tr>\n",
       "    <tr>\n",
       "      <th>4</th>\n",
       "      <td>MARKET</td>\n",
       "      <td>0.000780</td>\n",
       "    </tr>\n",
       "    <tr>\n",
       "      <th>5</th>\n",
       "      <td>MAY</td>\n",
       "      <td>0.000730</td>\n",
       "    </tr>\n",
       "    <tr>\n",
       "      <th>6</th>\n",
       "      <td>M.</td>\n",
       "      <td>0.000703</td>\n",
       "    </tr>\n",
       "    <tr>\n",
       "      <th>7</th>\n",
       "      <td>MANY</td>\n",
       "      <td>0.000697</td>\n",
       "    </tr>\n",
       "    <tr>\n",
       "      <th>8</th>\n",
       "      <td>MADE</td>\n",
       "      <td>0.000560</td>\n",
       "    </tr>\n",
       "    <tr>\n",
       "      <th>9</th>\n",
       "      <td>MUCH</td>\n",
       "      <td>0.000515</td>\n",
       "    </tr>\n",
       "    <tr>\n",
       "      <th>10</th>\n",
       "      <td>MAKE</td>\n",
       "      <td>0.000514</td>\n",
       "    </tr>\n",
       "    <tr>\n",
       "      <th>11</th>\n",
       "      <td>MONTH</td>\n",
       "      <td>0.000445</td>\n",
       "    </tr>\n",
       "    <tr>\n",
       "      <th>12</th>\n",
       "      <td>MONEY</td>\n",
       "      <td>0.000437</td>\n",
       "    </tr>\n",
       "    <tr>\n",
       "      <th>13</th>\n",
       "      <td>MONTHS</td>\n",
       "      <td>0.000406</td>\n",
       "    </tr>\n",
       "    <tr>\n",
       "      <th>14</th>\n",
       "      <td>MY</td>\n",
       "      <td>0.000400</td>\n",
       "    </tr>\n",
       "    <tr>\n",
       "      <th>15</th>\n",
       "      <td>MONDAY</td>\n",
       "      <td>0.000382</td>\n",
       "    </tr>\n",
       "    <tr>\n",
       "      <th>16</th>\n",
       "      <td>MAJOR</td>\n",
       "      <td>0.000371</td>\n",
       "    </tr>\n",
       "    <tr>\n",
       "      <th>17</th>\n",
       "      <td>MILITARY</td>\n",
       "      <td>0.000352</td>\n",
       "    </tr>\n",
       "    <tr>\n",
       "      <th>18</th>\n",
       "      <td>MEMBERS</td>\n",
       "      <td>0.000336</td>\n",
       "    </tr>\n",
       "    <tr>\n",
       "      <th>19</th>\n",
       "      <td>MIGHT</td>\n",
       "      <td>0.000274</td>\n",
       "    </tr>\n",
       "    <tr>\n",
       "      <th>20</th>\n",
       "      <td>MUST</td>\n",
       "      <td>0.000267</td>\n",
       "    </tr>\n",
       "    <tr>\n",
       "      <th>21</th>\n",
       "      <td>MEETING</td>\n",
       "      <td>0.000266</td>\n",
       "    </tr>\n",
       "    <tr>\n",
       "      <th>22</th>\n",
       "      <td>ME</td>\n",
       "      <td>0.000264</td>\n",
       "    </tr>\n",
       "    <tr>\n",
       "      <th>23</th>\n",
       "      <td>MARCH</td>\n",
       "      <td>0.000260</td>\n",
       "    </tr>\n",
       "    <tr>\n",
       "      <th>24</th>\n",
       "      <td>MAN</td>\n",
       "      <td>0.000253</td>\n",
       "    </tr>\n",
       "    <tr>\n",
       "      <th>25</th>\n",
       "      <td>MINISTER</td>\n",
       "      <td>0.000240</td>\n",
       "    </tr>\n",
       "    <tr>\n",
       "      <th>26</th>\n",
       "      <td>MS.</td>\n",
       "      <td>0.000239</td>\n",
       "    </tr>\n",
       "    <tr>\n",
       "      <th>27</th>\n",
       "      <td>MAKING</td>\n",
       "      <td>0.000212</td>\n",
       "    </tr>\n",
       "    <tr>\n",
       "      <th>28</th>\n",
       "      <td>MOVE</td>\n",
       "      <td>0.000210</td>\n",
       "    </tr>\n",
       "    <tr>\n",
       "      <th>29</th>\n",
       "      <td>MILES</td>\n",
       "      <td>0.000206</td>\n",
       "    </tr>\n",
       "  </tbody>\n",
       "</table>\n",
       "</div>"
      ],
      "text/plain": [
       "           0         1\n",
       "0    MILLION  0.002073\n",
       "1       MORE  0.001709\n",
       "2        MR.  0.001442\n",
       "3       MOST  0.000788\n",
       "4     MARKET  0.000780\n",
       "5        MAY  0.000730\n",
       "6         M.  0.000703\n",
       "7       MANY  0.000697\n",
       "8       MADE  0.000560\n",
       "9       MUCH  0.000515\n",
       "10      MAKE  0.000514\n",
       "11     MONTH  0.000445\n",
       "12     MONEY  0.000437\n",
       "13    MONTHS  0.000406\n",
       "14        MY  0.000400\n",
       "15    MONDAY  0.000382\n",
       "16     MAJOR  0.000371\n",
       "17  MILITARY  0.000352\n",
       "18   MEMBERS  0.000336\n",
       "19     MIGHT  0.000274\n",
       "20      MUST  0.000267\n",
       "21   MEETING  0.000266\n",
       "22        ME  0.000264\n",
       "23     MARCH  0.000260\n",
       "24       MAN  0.000253\n",
       "25  MINISTER  0.000240\n",
       "26       MS.  0.000239\n",
       "27    MAKING  0.000212\n",
       "28      MOVE  0.000210\n",
       "29     MILES  0.000206"
      ]
     },
     "execution_count": 31,
     "metadata": {},
     "output_type": "execute_result"
    }
   ],
   "source": [
    "import re\n",
    "\n",
    "m_regex = \"^M.*\"\n",
    "m_pattern = re.compile(m_regex)\n",
    "m_dict = {}\n",
    "for word, count in unigram_dict.iteritems():\n",
    "    if(m_pattern.match(word)):\n",
    "        m_dict[word] = unigram_dict[word]/total_prob\n",
    "m_dict = sorted(m_dict.items(), key=operator.itemgetter(1), reverse=True)\n",
    "pd.DataFrame(m_dict)"
   ]
  },
  {
   "cell_type": "code",
   "execution_count": 23,
   "metadata": {
    "collapsed": true
   },
   "outputs": [],
   "source": [
    "with open('hw4_data/hw4_bigram.txt') as f:\n",
    "    content = f.readlines()\n",
    "content = [line.strip() for line in content]\n",
    "bigram_word = list(map(int,[line.split('\\t')[1] for line in content]))\n",
    "bigram_word = [d-1 for d in bigram_word]\n",
    "bigram_prefix = list(map(int,[line.split('\\t')[0] for line in content]))\n",
    "bigram_prefix = [d-1 for d in bigram_prefix]\n",
    "bigram_count = list(map(float,[line.split('\\t')[2] for line in content]))"
   ]
  },
  {
   "cell_type": "markdown",
   "metadata": {},
   "source": [
    "# **Bigram Maximum Likelihood Estimates**  \n",
    "Following are the bigram probabilities of the top 10 most likely words to follow the word 'THE'"
   ]
  },
  {
   "cell_type": "code",
   "execution_count": 29,
   "metadata": {},
   "outputs": [
    {
     "data": {
      "text/html": [
       "<div>\n",
       "<style>\n",
       "    .dataframe thead tr:only-child th {\n",
       "        text-align: right;\n",
       "    }\n",
       "\n",
       "    .dataframe thead th {\n",
       "        text-align: left;\n",
       "    }\n",
       "\n",
       "    .dataframe tbody tr th {\n",
       "        vertical-align: top;\n",
       "    }\n",
       "</style>\n",
       "<table border=\"1\" class=\"dataframe\">\n",
       "  <thead>\n",
       "    <tr style=\"text-align: right;\">\n",
       "      <th></th>\n",
       "      <th>0</th>\n",
       "      <th>1</th>\n",
       "    </tr>\n",
       "  </thead>\n",
       "  <tbody>\n",
       "    <tr>\n",
       "      <th>0</th>\n",
       "      <td>&lt;UNK&gt;</td>\n",
       "      <td>0.615020</td>\n",
       "    </tr>\n",
       "    <tr>\n",
       "      <th>1</th>\n",
       "      <td>U.</td>\n",
       "      <td>0.013372</td>\n",
       "    </tr>\n",
       "    <tr>\n",
       "      <th>2</th>\n",
       "      <td>FIRST</td>\n",
       "      <td>0.011720</td>\n",
       "    </tr>\n",
       "    <tr>\n",
       "      <th>3</th>\n",
       "      <td>COMPANY</td>\n",
       "      <td>0.011659</td>\n",
       "    </tr>\n",
       "    <tr>\n",
       "      <th>4</th>\n",
       "      <td>NEW</td>\n",
       "      <td>0.009451</td>\n",
       "    </tr>\n",
       "    <tr>\n",
       "      <th>5</th>\n",
       "      <td>UNITED</td>\n",
       "      <td>0.008672</td>\n",
       "    </tr>\n",
       "    <tr>\n",
       "      <th>6</th>\n",
       "      <td>GOVERNMENT</td>\n",
       "      <td>0.006803</td>\n",
       "    </tr>\n",
       "    <tr>\n",
       "      <th>7</th>\n",
       "      <td>NINETEEN</td>\n",
       "      <td>0.006651</td>\n",
       "    </tr>\n",
       "    <tr>\n",
       "      <th>8</th>\n",
       "      <td>SAME</td>\n",
       "      <td>0.006287</td>\n",
       "    </tr>\n",
       "    <tr>\n",
       "      <th>9</th>\n",
       "      <td>TWO</td>\n",
       "      <td>0.006161</td>\n",
       "    </tr>\n",
       "  </tbody>\n",
       "</table>\n",
       "</div>"
      ],
      "text/plain": [
       "            0         1\n",
       "0       <UNK>  0.615020\n",
       "1          U.  0.013372\n",
       "2       FIRST  0.011720\n",
       "3     COMPANY  0.011659\n",
       "4         NEW  0.009451\n",
       "5      UNITED  0.008672\n",
       "6  GOVERNMENT  0.006803\n",
       "7    NINETEEN  0.006651\n",
       "8        SAME  0.006287\n",
       "9         TWO  0.006161"
      ]
     },
     "execution_count": 29,
     "metadata": {},
     "output_type": "execute_result"
    }
   ],
   "source": [
    "the_prefix_dict = {}\n",
    "the_index = vocab.index('THE')\n",
    "for i in range(0,len(bigram_prefix)):\n",
    "    if bigram_prefix[i] == the_index:\n",
    "        the_prefix_dict[vocab[bigram_word[i]]] = bigram_count[i]\n",
    "\n",
    "for key,value in the_prefix_dict.iteritems():\n",
    "    the_prefix_dict[key] = value/unigram_dict['THE']\n",
    "\n",
    "import operator\n",
    "the_prefix_dict = sorted(the_prefix_dict.items(),\\\n",
    "                         key=operator.itemgetter(1), reverse=True)[:10]\n",
    "pd.DataFrame(the_prefix_dict)"
   ]
  },
  {
   "cell_type": "markdown",
   "metadata": {},
   "source": [
    "# **Pipeline for estimating Log-Likelihood**  \n",
    "Following is a pipeline built to estimate log-likelihood in unigram & bigram models.  \n",
    "\n",
    "**`unigram_log_likelihood(line)` : ** Takes in a sentence & outputs the log-likelihood of this sentence under the unigram model with the given corpus. When a particular word is not observed in the corpus, it returns UNDEFINED.  \n",
    "\n",
    "**`get_bigram_prob(word, prefix)` : ** Takes in a word & its prefix and outputs the bigram probability of that word following the prefix.  \n",
    "\n",
    "**`bigram_log_likelihood(line)` : ** Takes in a sentence & outputs the log-likelihood of this sentence under the bigram model with the given corpus. When certain words & its prefixes are not observed in the corpus, it returns all the unobserved pairs."
   ]
  },
  {
   "cell_type": "code",
   "execution_count": 7,
   "metadata": {
    "collapsed": true
   },
   "outputs": [],
   "source": [
    "import math\n",
    "\n",
    "def unigram_log_likelihood(line):\n",
    "    line = line.strip()\n",
    "    line = line.upper()\n",
    "    words = line.split(' ')\n",
    "    unigram_prob = 1\n",
    "    for word in words:\n",
    "        if word not in unigram_dict.keys():\n",
    "            return \"UNDEFINED\"\n",
    "        unigram_prob = unigram_prob * (unigram_dict[word]/total_prob)\n",
    "    return math.log(unigram_prob)\n",
    "\n",
    "def get_bigram_prob(word, prefix):\n",
    "    word_index = vocab.index(word)\n",
    "    prefix_index = vocab.index(prefix)\n",
    "    for i in range(0,len(bigram_word)):\n",
    "        if bigram_word[i] == word_index and bigram_prefix[i] == prefix_index:\n",
    "            return bigram_count[i]/unigram_dict[prefix]\n",
    "    return 0\n",
    "\n",
    "def bigram_log_likelihood(line):\n",
    "    line = line.strip()\n",
    "    line = line.upper()\n",
    "    words = ['<s>']\n",
    "    words.extend(line.split(' '))\n",
    "    bigram_prob = 1\n",
    "    undefined_pairs = []\n",
    "    for i in range(1,len(words)):\n",
    "        curr_bigram_prob = get_bigram_prob(words[i],words[i-1])\n",
    "        if  curr_bigram_prob == 0:\n",
    "            undefined_pairs.extend([[words[i],words[i-1]]])\n",
    "        else:\n",
    "            bigram_prob = bigram_prob * curr_bigram_prob\n",
    "    if len(undefined_pairs) != 0:\n",
    "        print \"Error: UNDEFINED PAIRS FOUND IN THE SENTENCE\"\n",
    "        return undefined_pairs\n",
    "    else:\n",
    "        return math.log(bigram_prob)"
   ]
  },
  {
   "cell_type": "markdown",
   "metadata": {},
   "source": [
    "# **The stock market fell by one hundred points last week**"
   ]
  },
  {
   "cell_type": "markdown",
   "metadata": {},
   "source": [
    "**Computing unigram log-likelihood**"
   ]
  },
  {
   "cell_type": "code",
   "execution_count": 8,
   "metadata": {
    "scrolled": true
   },
   "outputs": [
    {
     "data": {
      "text/plain": [
       "-64.50944034364878"
      ]
     },
     "execution_count": 8,
     "metadata": {},
     "output_type": "execute_result"
    }
   ],
   "source": [
    "unigram_log_likelihood(\"The stock market fell by one hundred points last week\")"
   ]
  },
  {
   "cell_type": "markdown",
   "metadata": {},
   "source": [
    "**Computing bigram log-likelihood**"
   ]
  },
  {
   "cell_type": "code",
   "execution_count": 9,
   "metadata": {},
   "outputs": [
    {
     "data": {
      "text/plain": [
       "-40.91813213378977"
      ]
     },
     "execution_count": 9,
     "metadata": {},
     "output_type": "execute_result"
    }
   ],
   "source": [
    "bigram_log_likelihood(\"The stock market fell by one hundred points last week\")"
   ]
  },
  {
   "cell_type": "markdown",
   "metadata": {},
   "source": [
    "The bigram model yields the highest log-likelihood. This makes sense considering the fact, that our corpus is drawn out of Wall Street Journal articles. The sentence talks about drop in the points in stock market. The pairs of words from such a sentence is very much likely to be found in Wall St. Journals. This explains the higher log-likelihood compared to the unigram model."
   ]
  },
  {
   "cell_type": "markdown",
   "metadata": {},
   "source": [
    "# **The sixteen officials sold fire insurance**"
   ]
  },
  {
   "cell_type": "markdown",
   "metadata": {},
   "source": [
    "**Computing unigram log-likelihood**"
   ]
  },
  {
   "cell_type": "code",
   "execution_count": 10,
   "metadata": {},
   "outputs": [
    {
     "data": {
      "text/plain": [
       "-44.291934473132606"
      ]
     },
     "execution_count": 10,
     "metadata": {},
     "output_type": "execute_result"
    }
   ],
   "source": [
    "unigram_log_likelihood(\"The sixteen officials sold fire insurance\")"
   ]
  },
  {
   "cell_type": "markdown",
   "metadata": {},
   "source": [
    "**Computing bigram log-likelihood**"
   ]
  },
  {
   "cell_type": "code",
   "execution_count": 11,
   "metadata": {},
   "outputs": [
    {
     "name": "stdout",
     "output_type": "stream",
     "text": [
      "Error: UNDEFINED PAIRS FOUND IN THE SENTENCE\n"
     ]
    },
    {
     "data": {
      "text/plain": [
       "[['OFFICIALS', 'SIXTEEN'], ['FIRE', 'SOLD']]"
      ]
     },
     "execution_count": 11,
     "metadata": {},
     "output_type": "execute_result"
    }
   ],
   "source": [
    "bigram_log_likelihood(\"The sixteen officials sold fire insurance\")"
   ]
  },
  {
   "cell_type": "markdown",
   "metadata": {},
   "source": [
    "We have found that word pairs such as **sixteen followed by officials** & **sold followed by fire** don't occur in the corpus, and hence the bigram probabilities turn out to be 0 and the log likelihood becomes undefined. This is not desired. As for unigram log-likelihood, we can see that the log-likelihood is more than the previous sentence. This can be explained by seeing the individual words that make up that sentence. For example, `officials`, `sold`, `insurance` etc., are some of the words which are very much likely to be found in WSJ articles. "
   ]
  },
  {
   "cell_type": "markdown",
   "metadata": {},
   "source": [
    "# **Mixture Model**  \n",
    "Following is a mixture model, which combines unigram & bigram probabilities with a regulaizer lambda. This will avoid the problem of not finding pair occurences in corpus, provided those words are available in the unigram corpus. I have made a pipeline to experiment this model over various values of lambda to obtain the optimum for which there's maximum log-likelihood."
   ]
  },
  {
   "cell_type": "code",
   "execution_count": 12,
   "metadata": {
    "collapsed": true
   },
   "outputs": [],
   "source": [
    "def mixture_model(line, lam):\n",
    "    line = line.strip()\n",
    "    line = line.upper()\n",
    "    words = ['<s>']\n",
    "    words.extend(line.split(' '))\n",
    "    mm_prob = 1\n",
    "    for i in range(1,len(words)):\n",
    "        mm_prob = mm_prob * \\\n",
    "        ((lam*unigram_dict[words[i]]/total_prob) + \\\n",
    "         ((1-lam)*get_bigram_prob(words[i],words[i-1]))\\\n",
    "        )\n",
    "    return math.log(mm_prob)\n",
    "\n",
    "def frange(x, y, jump):\n",
    "    while x <= y:\n",
    "        yield x\n",
    "        x += jump"
   ]
  },
  {
   "cell_type": "code",
   "execution_count": 13,
   "metadata": {
    "collapsed": true
   },
   "outputs": [],
   "source": [
    "lam = list(frange(0.1,1,0.01))\n",
    "mm_prob_lam = []\n",
    "\n",
    "line = \"The sixteen officials sold fire insurance\"\n",
    "for l in lam:\n",
    "    mm_prob_lam.extend([mixture_model(line, l)])"
   ]
  },
  {
   "cell_type": "code",
   "execution_count": 34,
   "metadata": {},
   "outputs": [
    {
     "data": {
      "image/png": "[encoded data removed]",
      "text/plain": [
       "<matplotlib.figure.Figure at 0x115ee19d0>"
      ]
     },
     "metadata": {},
     "output_type": "display_data"
    }
   ],
   "source": [
    "import matplotlib.pyplot as plt\n",
    "plt.figure(figsize=(12,8))\n",
    "plt.grid(True)\n",
    "plt.xlabel(\"lambda\")\n",
    "plt.ylabel(\"Log Likelihood\")\n",
    "plt.plot(lam, mm_prob_lam, color='green')\n",
    "plt.show()"
   ]
  },
  {
   "cell_type": "markdown",
   "metadata": {
    "collapsed": true
   },
   "source": [
    "**Optimal value of lambda**  \n",
    "Following is the optimal value of lambda between [0,1] which gives the maximum log likelihood in our mixture model."
   ]
  },
  {
   "cell_type": "code",
   "execution_count": 36,
   "metadata": {},
   "outputs": [
    {
     "data": {
      "text/plain": [
       "0.65"
      ]
     },
     "execution_count": 36,
     "metadata": {},
     "output_type": "execute_result"
    }
   ],
   "source": [
    "round(lam[mm_prob_lam.index(max(mm_prob_lam))],2)"
   ]
  }
 ],
 "metadata": {
  "kernelspec": {
   "display_name": "Python 2",
   "language": "python",
   "name": "python2"
  },
  "language_info": {
   "codemirror_mode": {
    "name": "ipython",
    "version": 2
   },
   "file_extension": ".py",
   "mimetype": "text/x-python",
   "name": "python",
   "nbconvert_exporter": "python",
   "pygments_lexer": "ipython2",
   "version": "2.7.13"
  }
 },
 "nbformat": 4,
 "nbformat_minor": 2
}
