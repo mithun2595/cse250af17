{
 "cells": [
  {
   "cell_type": "code",
   "execution_count": 111,
   "metadata": {
    "collapsed": true
   },
   "outputs": [],
   "source": [
    "with open('hw4_data/hw4_nasdaq00.txt') as f:\n",
    "    content = f.readlines()\n",
    "train_data = list(map(float,[line.strip() for line in content]))\n",
    "\n",
    "with open('hw4_data/hw4_nasdaq01.txt') as f:\n",
    "    content = f.readlines()\n",
    "test_data = list(map(float,[line.strip() for line in content]))"
   ]
  },
  {
   "cell_type": "markdown",
   "metadata": {},
   "source": [
    "# **Getting Feature Vector & outputs from Training data**  \n",
    "**Feature Vector :** Stock indices for the three preceding days.  \n",
    "**Output :** Stock index on a particular day.  \n",
    "\n",
    "Conforming to the assumed linear model, we can train our model to learn the weights such that likelihood of a stock index on a day given indices on the three preceding days is maximised. But however, we can only start training from day 3, 2000. Each row in `train_X` is the feature vector for a single data point. `train_y` is the actual stock index values across all business days of the year 2000."
   ]
  },
  {
   "cell_type": "code",
   "execution_count": 112,
   "metadata": {},
   "outputs": [],
   "source": [
    "import numpy as np\n",
    "\n",
    "train_y = np.array([d for d in train_data[3:]])\n",
    "train_X = np.array([[train_data[i-1],train_data[i-2],train_data[i-3]]\\\n",
    "                    for i in range(3,len(train_data))])"
   ]
  },
  {
   "cell_type": "markdown",
   "metadata": {},
   "source": [
    "# **Test datapoints**  \n",
    "Since the graph for 4.4 shows continuity, we can use the last three business days of 2000 to predict the first business day of 2001 and so on. The following is an implementation of this."
   ]
  },
  {
   "cell_type": "code",
   "execution_count": 113,
   "metadata": {
    "collapsed": true
   },
   "outputs": [],
   "source": [
    "train_data.extend(test_data)\n",
    "\n",
    "test_y = np.array([d for d in train_data[249:]])\n",
    "test_X = np.array([[train_data[i-1],train_data[i-2],train_data[i-3]]\\\n",
    "                    for i in range(249,len(train_data))])"
   ]
  },
  {
   "cell_type": "markdown",
   "metadata": {},
   "source": [
    "# **Getting Linear Coefficients**  \n",
    "Linear coefficients are obtained from `train_X` and `train_y` using this equation.  \n",
    "\n",
    "**`a = inv(train_X.T . train_X).(train_X.T . train_y)`**\n"
   ]
  },
  {
   "cell_type": "code",
   "execution_count": 114,
   "metadata": {},
   "outputs": [],
   "source": [
    "a = np.dot(np.linalg.inv(np.dot(train_X.T, train_X)),np.dot(train_X.T,train_y))"
   ]
  },
  {
   "cell_type": "code",
   "execution_count": 119,
   "metadata": {},
   "outputs": [
    {
     "name": "stdout",
     "output_type": "stream",
     "text": [
      "a1 : 0.950673366139\n",
      "a2 : 0.0156013307754\n",
      "a3 : 0.031895685159\n"
     ]
    }
   ],
   "source": [
    "print \"a1 :\",a[0]\n",
    "print \"a2 :\",a[1]\n",
    "print \"a3 :\",a[2]"
   ]
  },
  {
   "cell_type": "markdown",
   "metadata": {},
   "source": [
    "# **Predictions & Mean Squared Error**"
   ]
  },
  {
   "cell_type": "code",
   "execution_count": 116,
   "metadata": {},
   "outputs": [],
   "source": [
    "train_pred = np.dot(train_X,a)\n",
    "test_pred = np.dot(test_X,a)"
   ]
  },
  {
   "cell_type": "markdown",
   "metadata": {},
   "source": [
    "**MSE on the training data**"
   ]
  },
  {
   "cell_type": "code",
   "execution_count": 117,
   "metadata": {},
   "outputs": [
    {
     "data": {
      "text/plain": [
       "13902.401076367871"
      ]
     },
     "execution_count": 117,
     "metadata": {},
     "output_type": "execute_result"
    }
   ],
   "source": [
    "sum((train_pred-train_y)**2)/len(train_pred)"
   ]
  },
  {
   "cell_type": "markdown",
   "metadata": {},
   "source": [
    "**MSE on the test data**"
   ]
  },
  {
   "cell_type": "code",
   "execution_count": 118,
   "metadata": {},
   "outputs": [
    {
     "data": {
      "text/plain": [
       "3600.9253539330207"
      ]
     },
     "execution_count": 118,
     "metadata": {},
     "output_type": "execute_result"
    }
   ],
   "source": [
    "sum((test_pred-test_y)**2)/len(test_pred)"
   ]
  },
  {
   "cell_type": "markdown",
   "metadata": {},
   "source": [
    "I would not recommend this linear model of combining three preceding days' indices to predict the stock index on a day. This linear model would not perform well on real world stock index fluctuations. Given data has a largely decreasing trend in the training & testing data, the reason for which it actually has lesser error on test data. This might not be the case with actual stock indices in a long run. "
   ]
  }
 ],
 "metadata": {
  "kernelspec": {
   "display_name": "Python 2",
   "language": "python",
   "name": "python2"
  },
  "language_info": {
   "codemirror_mode": {
    "name": "ipython",
    "version": 2
   },
   "file_extension": ".py",
   "mimetype": "text/x-python",
   "name": "python",
   "nbconvert_exporter": "python",
   "pygments_lexer": "ipython2",
   "version": "2.7.13"
  }
 },
 "nbformat": 4,
 "nbformat_minor": 2
}
