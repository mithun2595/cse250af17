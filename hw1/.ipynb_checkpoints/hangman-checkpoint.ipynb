{
 "cells": [
  {
   "cell_type": "code",
   "execution_count": 4,
   "metadata": {
    "collapsed": true
   },
   "outputs": [],
   "source": [
    "with open('hw1_word_counts_05.txt') as f:\n",
    "    content=f.readlines()\n",
    "words, word_freq = zip(*(s.split(\" \") for s in content))"
   ]
  },
  {
   "cell_type": "code",
   "execution_count": 5,
   "metadata": {
    "collapsed": true
   },
   "outputs": [],
   "source": [
    "word_freq = [freq.strip() for freq in word_freq]"
   ]
  },
  {
   "cell_type": "code",
   "execution_count": 6,
   "metadata": {
    "collapsed": true
   },
   "outputs": [],
   "source": [
    "word_freq = map(float, word_freq)"
   ]
  },
  {
   "cell_type": "code",
   "execution_count": 7,
   "metadata": {},
   "outputs": [
    {
     "data": {
      "text/plain": [
       "('AARON', 'ABABA', 'ABACK', 'ABATE', 'ABBAS', 'ABBEY')"
      ]
     },
     "execution_count": 7,
     "metadata": {},
     "output_type": "execute_result"
    }
   ],
   "source": [
    "words[:6]"
   ]
  },
  {
   "cell_type": "code",
   "execution_count": 8,
   "metadata": {},
   "outputs": [
    {
     "data": {
      "text/plain": [
       "[413.0, 199.0, 64.0, 69.0, 290.0, 213.0]"
      ]
     },
     "execution_count": 8,
     "metadata": {},
     "output_type": "execute_result"
    }
   ],
   "source": [
    "word_freq[:6]"
   ]
  },
  {
   "cell_type": "code",
   "execution_count": 9,
   "metadata": {
    "collapsed": true
   },
   "outputs": [],
   "source": [
    "prior_pblty = [freq/sum(word_freq) for freq in word_freq]"
   ]
  },
  {
   "cell_type": "code",
   "execution_count": 10,
   "metadata": {},
   "outputs": [
    {
     "data": {
      "text/plain": [
       "[5.3882283779071155e-05,\n",
       " 2.59626500533539e-05,\n",
       " 8.349797002083667e-06,\n",
       " 9.002124892871452e-06,\n",
       " 3.783501766569161e-05,\n",
       " 2.77891681475597e-05]"
      ]
     },
     "execution_count": 10,
     "metadata": {},
     "output_type": "execute_result"
    }
   ],
   "source": [
    "prior_pblty[:6]"
   ]
  },
  {
   "cell_type": "code",
   "execution_count": 11,
   "metadata": {
    "collapsed": true
   },
   "outputs": [],
   "source": [
    "corpus_dict = dict(zip(words, prior_pblty))"
   ]
  },
  {
   "cell_type": "code",
   "execution_count": 12,
   "metadata": {},
   "outputs": [
    {
     "data": {
      "text/plain": [
       "6535"
      ]
     },
     "execution_count": 12,
     "metadata": {},
     "output_type": "execute_result"
    }
   ],
   "source": [
    "len(corpus_dict)"
   ]
  },
  {
   "cell_type": "code",
   "execution_count": 13,
   "metadata": {},
   "outputs": [
    {
     "data": {
      "text/plain": [
       "['THREE',\n",
       " 'SEVEN',\n",
       " 'EIGHT',\n",
       " 'WOULD',\n",
       " 'ABOUT',\n",
       " 'THEIR',\n",
       " 'WHICH',\n",
       " 'AFTER',\n",
       " 'FIRST',\n",
       " 'FIFTY',\n",
       " 'OTHER',\n",
       " 'FORTY',\n",
       " 'YEARS',\n",
       " 'THERE',\n",
       " 'SIXTY']"
      ]
     },
     "execution_count": 13,
     "metadata": {},
     "output_type": "execute_result"
    }
   ],
   "source": [
    "sorted(corpus_dict, key=corpus_dict.get, reverse=True)[:15]"
   ]
  },
  {
   "cell_type": "code",
   "execution_count": 14,
   "metadata": {},
   "outputs": [
    {
     "data": {
      "text/plain": [
       "['TROUP',\n",
       " 'MAPCO',\n",
       " 'CAIXA',\n",
       " 'OTTIS',\n",
       " 'BOSAK',\n",
       " 'NIAID',\n",
       " 'YALOM',\n",
       " 'SERNA',\n",
       " 'CLEFT',\n",
       " 'CCAIR',\n",
       " 'FOAMY',\n",
       " 'PAXON',\n",
       " 'TOCOR',\n",
       " 'FABRI']"
      ]
     },
     "execution_count": 14,
     "metadata": {},
     "output_type": "execute_result"
    }
   ],
   "source": [
    "sorted(corpus_dict, key=corpus_dict.get, reverse=False)[:14]"
   ]
  },
  {
   "cell_type": "code",
   "execution_count": 15,
   "metadata": {},
   "outputs": [],
   "source": [
    "import operator\n",
    "import re\n",
    "import matplotlib.pylab as plt\n",
    "\n",
    "def get_pattern(word_regex, incorrect_guess):\n",
    "    regex_match_all='[ABCDEFGHIJKLMNOPQRSTUVWXYZ]'\n",
    "    exception_string = word_regex.replace(\".\",\"\")\n",
    "    exception_string += ''.join(incorrect_guess)\n",
    "    for exception_letter in exception_string:\n",
    "        regex_match_all = regex_match_all.replace(exception_letter,\"\")\n",
    "    word_regex = word_regex.replace(\".\",regex_match_all)\n",
    "    return word_regex\n",
    "\n",
    "def next_guess(word_regex, incorrect_guess=[]):\n",
    "    pd=0.0\n",
    "    evidence_pattern = re.compile(get_pattern(word_regex, incorrect_guess))\n",
    "    # calculate once and there's no need to calculate again.\n",
    "    # It's the heaviest calculation.\n",
    "    for pd_word,pd_prob in corpus_dict.iteritems():\n",
    "        pd = pd + (pd_prob if evidence_pattern.match(pd_word) else 0)\n",
    "    next_guess_prob = {}\n",
    "    all_letters='ABCDEFGHIJKLMNOPQRSTUVWXYZ'\n",
    "    exclude = word_regex.replace(\".\",\"\")\n",
    "    exclude += ''.join(incorrect_guess)\n",
    "    for exception_letter in exclude:\n",
    "        all_letters = all_letters.replace(exception_letter,\"\")\n",
    "    for l in all_letters:\n",
    "        sum_prob = 0;\n",
    "        for w,prob in corpus_dict.iteritems():\n",
    "            if l in w:\n",
    "                pn = corpus_dict.get(w) if evidence_pattern.match(w) else 0\n",
    "                sum_prob = sum_prob + (pn/pd)\n",
    "        next_guess_prob[l] = sum_prob\n",
    "    plt.bar(range(len(next_guess_prob)), next_guess_prob.values(), align='center')\n",
    "    plt.xticks(range(len(next_guess_prob)), next_guess_prob.keys())\n",
    "    plt.show()\n",
    "    next_guess = max(next_guess_prob.iteritems(), key=operator.itemgetter(1))[0]\n",
    "    return (next_guess, next_guess_prob[next_guess])"
   ]
  },
  {
   "cell_type": "code",
   "execution_count": 16,
   "metadata": {},
   "outputs": [
    {
     "data": {
      "image/png": "[encoded data removed]",
      "text/plain": [
       "<matplotlib.figure.Figure at 0x105b43710>"
      ]
     },
     "metadata": {},
     "output_type": "display_data"
    },
    {
     "data": {
      "text/plain": [
       "('E', 0.5394172389647943)"
      ]
     },
     "execution_count": 16,
     "metadata": {},
     "output_type": "execute_result"
    }
   ],
   "source": [
    "next_guess(\".....\")"
   ]
  },
  {
   "cell_type": "code",
   "execution_count": 17,
   "metadata": {},
   "outputs": [
    {
     "data": {
      "image/png": "[encoded data removed]",
      "text/plain": [
       "<matplotlib.figure.Figure at 0x106bb8810>"
      ]
     },
     "metadata": {},
     "output_type": "display_data"
    },
    {
     "data": {
      "text/plain": [
       "('O', 0.5340315651557652)"
      ]
     },
     "execution_count": 17,
     "metadata": {},
     "output_type": "execute_result"
    }
   ],
   "source": [
    "next_guess(\".....\",['E','A'])"
   ]
  },
  {
   "cell_type": "code",
   "execution_count": 18,
   "metadata": {},
   "outputs": [
    {
     "data": {
      "image/png": "[encoded data removed]",
      "text/plain": [
       "<matplotlib.figure.Figure at 0x1066d1a10>"
      ]
     },
     "metadata": {},
     "output_type": "display_data"
    },
    {
     "data": {
      "text/plain": [
       "('E', 0.7715371621621622)"
      ]
     },
     "execution_count": 18,
     "metadata": {},
     "output_type": "execute_result"
    }
   ],
   "source": [
    "next_guess(\"A...S\")"
   ]
  },
  {
   "cell_type": "code",
   "execution_count": 19,
   "metadata": {},
   "outputs": [
    {
     "data": {
      "image/png": "[encoded data removed]",
      "text/plain": [
       "<matplotlib.figure.Figure at 0x1066d1090>"
      ]
     },
     "metadata": {},
     "output_type": "display_data"
    },
    {
     "data": {
      "text/plain": [
       "('E', 0.7127008416220354)"
      ]
     },
     "execution_count": 19,
     "metadata": {},
     "output_type": "execute_result"
    }
   ],
   "source": [
    "next_guess(\"A...S\",['I'])"
   ]
  },
  {
   "cell_type": "code",
   "execution_count": 20,
   "metadata": {},
   "outputs": [
    {
     "data": {
      "image/png": "[encoded data removed]",
      "text/plain": [
       "<matplotlib.figure.Figure at 0x106ecc690>"
      ]
     },
     "metadata": {},
     "output_type": "display_data"
    },
    {
     "data": {
      "text/plain": [
       "('R', 0.7453866259829716)"
      ]
     },
     "execution_count": 20,
     "metadata": {},
     "output_type": "execute_result"
    }
   ],
   "source": [
    "next_guess(\"..O..\",['A','E','M','N','T'])"
   ]
  },
  {
   "cell_type": "code",
   "execution_count": 21,
   "metadata": {
    "collapsed": true
   },
   "outputs": [],
   "source": [
    "#####################################################################################\n",
    "#                                   VALIDATION HERE                                 #\n",
    "#####################################################################################"
   ]
  },
  {
   "cell_type": "code",
   "execution_count": 22,
   "metadata": {},
   "outputs": [
    {
     "data": {
      "image/png": "[encoded data removed]",
      "text/plain": [
       "<matplotlib.figure.Figure at 0x10705ec90>"
      ]
     },
     "metadata": {},
     "output_type": "display_data"
    },
    {
     "data": {
      "text/plain": [
       "('I', 0.6365554141009607)"
      ]
     },
     "execution_count": 22,
     "metadata": {},
     "output_type": "execute_result"
    }
   ],
   "source": [
    "next_guess(\".....\",['E','O'])"
   ]
  },
  {
   "cell_type": "code",
   "execution_count": 23,
   "metadata": {},
   "outputs": [
    {
     "data": {
      "image/png": "[encoded data removed]",
      "text/plain": [
       "<matplotlib.figure.Figure at 0x10748fd90>"
      ]
     },
     "metadata": {},
     "output_type": "display_data"
    },
    {
     "data": {
      "text/plain": [
       "('A', 0.8206845238095238)"
      ]
     },
     "execution_count": 23,
     "metadata": {},
     "output_type": "execute_result"
    }
   ],
   "source": [
    "next_guess(\"D..I.\")"
   ]
  },
  {
   "cell_type": "code",
   "execution_count": 24,
   "metadata": {},
   "outputs": [
    {
     "data": {
      "image/png": "[encoded data removed]",
      "text/plain": [
       "<matplotlib.figure.Figure at 0x107486f50>"
      ]
     },
     "metadata": {},
     "output_type": "display_data"
    },
    {
     "data": {
      "text/plain": [
       "('E', 0.7520746887966804)"
      ]
     },
     "execution_count": 24,
     "metadata": {},
     "output_type": "execute_result"
    }
   ],
   "source": [
    "next_guess(\"D..I.\",['A'])"
   ]
  },
  {
   "cell_type": "code",
   "execution_count": 25,
   "metadata": {},
   "outputs": [
    {
     "data": {
      "image/png": "[encoded data removed]",
      "text/plain": [
       "<matplotlib.figure.Figure at 0x1071019d0>"
      ]
     },
     "metadata": {},
     "output_type": "display_data"
    },
    {
     "data": {
      "text/plain": [
       "('Y', 0.6269651101630525)"
      ]
     },
     "execution_count": 25,
     "metadata": {},
     "output_type": "execute_result"
    }
   ],
   "source": [
    "next_guess(\".U...\",['A','E','I','O','S'])"
   ]
  },
  {
   "cell_type": "code",
   "execution_count": null,
   "metadata": {
    "collapsed": true
   },
   "outputs": [],
   "source": []
  }
 ],
 "metadata": {
  "kernelspec": {
   "display_name": "Python 2",
   "language": "python",
   "name": "python2"
  },
  "language_info": {
   "codemirror_mode": {
    "name": "ipython",
    "version": 2
   },
   "file_extension": ".py",
   "mimetype": "text/x-python",
   "name": "python",
   "nbconvert_exporter": "python",
   "pygments_lexer": "ipython2",
   "version": "2.7.13"
  }
 },
 "nbformat": 4,
 "nbformat_minor": 2
}
