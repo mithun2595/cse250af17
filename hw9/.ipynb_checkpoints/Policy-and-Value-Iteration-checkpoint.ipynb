{
 "cells": [
  {
   "cell_type": "code",
   "execution_count": 1,
   "metadata": {
    "collapsed": true
   },
   "outputs": [],
   "source": [
    "import numpy as np\n",
    "import random"
   ]
  },
  {
   "cell_type": "code",
   "execution_count": 2,
   "metadata": {
    "collapsed": true
   },
   "outputs": [],
   "source": [
    "rewards = np.zeros((81, 1), dtype = int)\n",
    "i = 0\n",
    "for l in open('rewards.txt'):\n",
    "    rewards[i][0] = int(l)\n",
    "    i += 1"
   ]
  },
  {
   "cell_type": "code",
   "execution_count": 3,
   "metadata": {
    "collapsed": true
   },
   "outputs": [],
   "source": [
    "def init_matrix(fname):\n",
    "    action = np.zeros((81, 81), dtype = float)\n",
    "    for l in open(fname):\n",
    "        l = l.split()\n",
    "        action[int(l[0]) - 1, int(l[1]) - 1] = float(l[2])\n",
    "    return action"
   ]
  },
  {
   "cell_type": "code",
   "execution_count": 4,
   "metadata": {
    "collapsed": true
   },
   "outputs": [],
   "source": [
    "a1 = init_matrix('prob_a1.txt')\n",
    "a2 = init_matrix('prob_a2.txt')\n",
    "a3 = init_matrix('prob_a3.txt')\n",
    "a4 = init_matrix('prob_a4.txt')"
   ]
  },
  {
   "cell_type": "code",
   "execution_count": 5,
   "metadata": {},
   "outputs": [
    {
     "name": "stdout",
     "output_type": "stream",
     "text": [
      "LOADED CORRECTLY\n"
     ]
    }
   ],
   "source": [
    "if sum(a1[random.randint(0,len(a1)-1)]) == 1.0 and \\\n",
    "sum(a2[random.randint(0,len(a2)-1)]) == 1.0 and \\\n",
    "sum(a3[random.randint(0,len(a3)-1)]) == 1.0 and \\\n",
    "sum(a4[random.randint(0,len(a4)-1)]) == 1.0:\n",
    "    print \"LOADED CORRECTLY\""
   ]
  },
  {
   "cell_type": "code",
   "execution_count": 6,
   "metadata": {
    "collapsed": true
   },
   "outputs": [],
   "source": [
    "V = [0.0] * len(a1[0])\n",
    "a = [a1, a2, a3, a4]"
   ]
  },
  {
   "cell_type": "code",
   "execution_count": 7,
   "metadata": {
    "collapsed": true
   },
   "outputs": [],
   "source": [
    "def init_identity(size):\n",
    "    I = np.zeros((size,size), dtype = float)\n",
    "    for i in range(size):\n",
    "        I[i,i] = 1.0\n",
    "    return I\n",
    "\n",
    "def max_value_action(action, state, v_k):\n",
    "    max_value = -10000.00\n",
    "    max_action = -1\n",
    "    for i in range(4):\n",
    "        temp = 0.0\n",
    "        for k in range(81):\n",
    "            temp += action[i][state][k] * v_k[k]\n",
    "        if temp > max_value:\n",
    "            max_value = temp\n",
    "            max_action = i\n",
    "    return max_value, max_action\n",
    "\n",
    "def get_matrix_policy(action, pi):\n",
    "    T = np.zeros((81, 81), dtype = float)\n",
    "    for i in range(81):\n",
    "        a = pi[i]\n",
    "        T[i] = action[a][i]\n",
    "    return T\n",
    "\n",
    "def optimize_policy(a, rewards, V):\n",
    "    pi_ = [0] * 81\n",
    "    gamma = 0.9925\n",
    "    I = init_identity(len(V))\n",
    "    for k in range(30):\n",
    "        P = get_matrix_policy(a, pi_)\n",
    "        old_v = np.matrix(I - gamma * P).I * rewards\n",
    "        for i in range(len(V)):\n",
    "            max_value, max_action = max_value_action(a, i, old_v)\n",
    "            V[i] = rewards[i][0] + gamma * max_value\n",
    "            pi_[i] = max_action\n",
    "    return V, pi_\n",
    "\n",
    "def optimize_value(a, rewards, V):\n",
    "    pi = [0] * 81\n",
    "    gamma = 0.9925\n",
    "    for k in range(30):\n",
    "        old_v = list(V)\n",
    "        for i in range(81):\n",
    "            max_value, max_action = max_value_action(a, i, old_v)\n",
    "            V[i] = rewards[i][0] + gamma * max_value\n",
    "            pi[i] = max_action\n",
    "    return V, pi"
   ]
  },
  {
   "cell_type": "code",
   "execution_count": 8,
   "metadata": {
    "collapsed": true
   },
   "outputs": [],
   "source": [
    "val, pi_policy_iter = optimize_policy(a, rewards, V)"
   ]
  },
  {
   "cell_type": "code",
   "execution_count": 16,
   "metadata": {
    "collapsed": true
   },
   "outputs": [],
   "source": [
    "idx = 0\n",
    "board = np.zeros((9,9), dtype = float)\n",
    "for i in range(9):\n",
    "    for j in range(9):\n",
    "        board[i,j] = round(val[idx].item(0),2)\n",
    "        idx += 1"
   ]
  },
  {
   "cell_type": "code",
   "execution_count": 17,
   "metadata": {},
   "outputs": [
    {
     "name": "stdout",
     "output_type": "stream",
     "text": [
      "VALUES in 9x9 board\n",
      "[ 0.  0.  0.  0.  0.  0.  0.  0.  0.]\n",
      "[   0.    102.38  103.23  104.1     0.   -133.33   81.4  -133.33    0.  ]\n",
      "[ 100.7   101.52    0.    104.98  103.78   90.99   93.67   81.4     0.  ]\n",
      "[   0.      0.    106.78  105.89    0.   -133.33   95.17 -133.33    0.  ]\n",
      "[   0.      0.    107.67    0.      0.      0.    108.34    0.      0.  ]\n",
      "[   0.    109.49  108.58    0.      0.   -133.33  109.58 -133.33    0.  ]\n",
      "[   0.    110.41    0.    114.16  115.12  116.09  123.64  125.25  133.33]\n",
      "[   0.    111.34  112.27  113.21    0.    122.02  123.18  124.21    0.  ]\n",
      "[ 0.  0.  0.  0.  0.  0.  0.  0.  0.]\n"
     ]
    }
   ],
   "source": [
    "print \"VALUES in 9x9 board\"\n",
    "board = board.T\n",
    "for i in range(board.shape[0]):\n",
    "    print board[i]"
   ]
  },
  {
   "cell_type": "code",
   "execution_count": 23,
   "metadata": {},
   "outputs": [],
   "source": []
  },
  {
   "cell_type": "code",
   "execution_count": 25,
   "metadata": {},
   "outputs": [
    {
     "name": "stdout",
     "output_type": "stream",
     "text": [
      "POLICY AFTER POLICY ITER\n",
      "[ 0.  0.  2.  0.  0.  0.  0.  0.  0.]\n",
      "[ 0.  2.  1.  0.  0.  3.  3.  2.  0.]\n",
      "[ 0.  2.  0.  3.  3.  0.  0.  2.  0.]\n",
      "[ 0.  3.  3.  0.  0.  0.  2.  1.  0.]\n",
      "[ 0.  0.  0.  0.  0.  0.  2.  0.  0.]\n",
      "[ 0.  0.  0.  0.  0.  0.  2.  2.  0.]\n",
      "[ 0.  3.  3.  3.  3.  3.  2.  2.  0.]\n",
      "[ 0.  0.  0.  0.  0.  0.  2.  1.  0.]\n",
      "[ 0.  0.  0.  0.  0.  0.  0.  0.  0.]\n"
     ]
    }
   ],
   "source": [
    "print \"POLICY AFTER POLICY ITER\"\n",
    "pi = pi.T\n",
    "for i in range(pi.shape[0]):\n",
    "    print pi[i]"
   ]
  },
  {
   "cell_type": "code",
   "execution_count": 26,
   "metadata": {
    "collapsed": true
   },
   "outputs": [],
   "source": [
    "val, pi_value_iter = optimize_value(a, rewards, V)"
   ]
  },
  {
   "cell_type": "code",
   "execution_count": 64,
   "metadata": {
    "collapsed": true
   },
   "outputs": [],
   "source": [
    "idx = 0\n",
    "board = np.zeros((9,9), dtype = float)\n",
    "for i in range(9):\n",
    "    for j in range(9):\n",
    "        board[i,j] = round(val[idx].item(0),2)\n",
    "        idx += 1"
   ]
  },
  {
   "cell_type": "code",
   "execution_count": 13,
   "metadata": {},
   "outputs": [
    {
     "name": "stdout",
     "output_type": "stream",
     "text": [
      "VALUES in 9x9 board\n",
      "[   0.     0.   100.7    0.     0.     0.     0.     0.     0. ]\n",
      "[   0.    102.38  101.52    0.      0.    109.49  110.41  111.34    0.  ]\n",
      "[   0.    103.23    0.    106.78  107.67  108.58    0.    112.27    0.  ]\n",
      "[   0.    104.1   104.98  105.89    0.      0.    114.16  113.21    0.  ]\n",
      "[   0.      0.    103.78    0.      0.      0.    115.12    0.      0.  ]\n",
      "[   0.   -133.33   90.99 -133.33    0.   -133.33  116.09  122.02    0.  ]\n",
      "[   0.     81.4    93.67   95.17  108.34  109.58  123.64  123.18    0.  ]\n",
      "[   0.   -133.33   81.4  -133.33    0.   -133.33  125.25  124.21    0.  ]\n",
      "[   0.      0.      0.      0.      0.      0.    133.33    0.      0.  ]\n"
     ]
    }
   ],
   "source": [
    "print \"VALUES in 9x9 board\"\n",
    "board = board.T\n",
    "for i in range(board.shape[0]):\n",
    "    print board[i]"
   ]
  },
  {
   "cell_type": "code",
   "execution_count": 27,
   "metadata": {},
   "outputs": [],
   "source": [
    "idx = 0\n",
    "pi = np.zeros((9,9), dtype = float)\n",
    "for i in range(9):\n",
    "    for j in range(9):\n",
    "        pi[i,j] = pi_value_iter[idx]\n",
    "        idx += 1"
   ]
  },
  {
   "cell_type": "code",
   "execution_count": 28,
   "metadata": {},
   "outputs": [
    {
     "name": "stdout",
     "output_type": "stream",
     "text": [
      "POLICY AFTER VALUE ITER\n",
      "[ 0.  0.  0.  0.  0.  0.  0.  0.  0.]\n",
      "[ 0.  2.  2.  3.  0.  0.  3.  0.  0.]\n",
      "[ 2.  1.  0.  3.  0.  0.  3.  0.  0.]\n",
      "[ 0.  0.  3.  0.  0.  0.  3.  0.  0.]\n",
      "[ 0.  0.  3.  0.  0.  0.  3.  0.  0.]\n",
      "[ 0.  3.  0.  0.  0.  0.  3.  0.  0.]\n",
      "[ 0.  3.  0.  2.  2.  2.  2.  2.  0.]\n",
      "[ 0.  2.  2.  1.  0.  2.  2.  1.  0.]\n",
      "[ 0.  0.  0.  0.  0.  0.  0.  0.  0.]\n"
     ]
    }
   ],
   "source": [
    "print \"POLICY AFTER VALUE ITER\"\n",
    "pi = pi.T\n",
    "for i in range(pi.shape[0]):\n",
    "    print pi[i]"
   ]
  },
  {
   "cell_type": "code",
   "execution_count": null,
   "metadata": {
    "collapsed": true
   },
   "outputs": [],
   "source": []
  }
 ],
 "metadata": {
  "kernelspec": {
   "display_name": "Python 2",
   "language": "python",
   "name": "python2"
  },
  "language_info": {
   "codemirror_mode": {
    "name": "ipython",
    "version": 2
   },
   "file_extension": ".py",
   "mimetype": "text/x-python",
   "name": "python",
   "nbconvert_exporter": "python",
   "pygments_lexer": "ipython2",
   "version": "2.7.13"
  }
 },
 "nbformat": 4,
 "nbformat_minor": 2
}
