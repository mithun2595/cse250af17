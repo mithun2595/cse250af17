{
 "cells": [
  {
   "cell_type": "code",
   "execution_count": 51,
   "metadata": {
    "collapsed": true
   },
   "outputs": [],
   "source": [
    "from collections import defaultdict\n",
    "import copy\n",
    "import numpy as np\n",
    "import math\n",
    "movies = []\n",
    "\n",
    "Z = np.loadtxt(\"hw8_probZ_init.txt\")\n",
    "R = np.loadtxt(\"hw8_probRgivenZ_init.txt\")\n",
    "ratings = []\n",
    "movies = []\n",
    "with open(\"hw8_movieTitles.txt\") as f:\n",
    "    movies = [x.strip().replace(\"_\", \" \") for x in f.readlines()]\n",
    "movie = [defaultdict() for x in movies]\n",
    "\n",
    "with open(\"hw8_ratings.txt\") as f:\n",
    "    lines = f.readlines()\n",
    "    for line in lines:\n",
    "        temp = line.strip().split(' ')\n",
    "        ratings.append(temp)\n",
    "        for x in range(len(temp)):\n",
    "            if temp[x] != \"?\":\n",
    "                if \"recom\" not in movie[int(x)]:\n",
    "                    movie[int(x)][\"recom\"]  = 0\n",
    "                    movie[int(x)][\"seen\"]  = 0\n",
    "                movie[int(x)][\"recom\"] += int(temp[x])\n",
    "                movie[int(x)][\"seen\"] += 1\n",
    "\n",
    "sanity = []\n",
    "for x in range(len(movie)):\n",
    "    sanity.append(tuple([movies[x], (movie[x][\"recom\"]/movie[x][\"seen\"])]))\n",
    "sanity = sorted(sanity, key=lambda tup: tup[1], reverse=True)    "
   ]
  },
  {
   "cell_type": "code",
   "execution_count": 52,
   "metadata": {
    "collapsed": true
   },
   "outputs": [],
   "source": [
    "# for x in sanity:\n",
    "#     print(x)"
   ]
  },
  {
   "cell_type": "code",
   "execution_count": 53,
   "metadata": {
    "collapsed": true
   },
   "outputs": [],
   "source": [
    "def EHelp(student, goerType):\n",
    "    temp = 1.0\n",
    "    for i in range(len(ratings[student])):\n",
    "        if(ratings[student][i] == \"1\"):\n",
    "            temp *= R[i][goerType]\n",
    "        elif(ratings[student][i] == \"0\"):\n",
    "            temp *= (1 - R[i][goerType])\n",
    "    return temp\n",
    "\n",
    "def E(student, goerType):\n",
    "    num = Z[goerType]*EHelp(student, goerType)\n",
    "    den = 0.0\n",
    "    for i in range(0, 4):\n",
    "        den += Z[i]*EHelp(student, i)\n",
    "    return num/den"
   ]
  },
  {
   "cell_type": "code",
   "execution_count": 54,
   "metadata": {
    "collapsed": true
   },
   "outputs": [],
   "source": [
    "def Zeqi(goerType):\n",
    "    temp = 0.0\n",
    "    pit = []\n",
    "    for i in range(0, len(ratings)):\n",
    "        val = E(i, goerType)\n",
    "        temp += val\n",
    "        pit.append(val)\n",
    "    return temp/len(ratings)\n",
    "\n",
    "def M(movie, goerType):\n",
    "    ans = 0.0\n",
    "    den = 0.0\n",
    "    for i in range(len(ratings)):\n",
    "        temp = E(i, goerType)\n",
    "        den += temp      \n",
    "        if(ratings[i][movie] == \"1\"):\n",
    "             ans += temp\n",
    "        elif(ratings[i][movie] == \"?\"):\n",
    "            ans += temp*R[movie][goerType]\n",
    "    return ans/den"
   ]
  },
  {
   "cell_type": "code",
   "execution_count": 55,
   "metadata": {
    "collapsed": true
   },
   "outputs": [],
   "source": [
    "def ll():\n",
    "    ans = 0.0\n",
    "    for i in range(0, len(ratings)):\n",
    "        t = 0.0\n",
    "        for j in range(0, 4):\n",
    "            prod = 1.0\n",
    "            for k, movieRating in enumerate(ratings[i]):\n",
    "                if movieRating == \"0\":\n",
    "                    prod *= (1 - R[k][j])\n",
    "                if movieRating == \"1\":\n",
    "                    prod *= R[k][j]\n",
    "            t += prod*Z[j]\n",
    "        ans += math.log(t)\n",
    "    return ans/len(ratings)"
   ]
  },
  {
   "cell_type": "code",
   "execution_count": 56,
   "metadata": {},
   "outputs": [
    {
     "name": "stdout",
     "output_type": "stream",
     "text": [
      "[ 0.25  0.25  0.25  0.25]\n",
      "(0, -23.68194303920656)\n",
      "[0.26497354421407987, 0.081754627003996244, 0.47587993989571098, 0.17739188888621288]\n",
      "(1, -14.342138732059837)\n",
      "[0.29831105183726631, 0.11469089574950021, 0.45506418286606626, 0.13193386954716768]\n",
      "(2, -12.909592229693581)\n"
     ]
    },
    {
     "ename": "KeyboardInterrupt",
     "evalue": "",
     "output_type": "error",
     "traceback": [
      "\u001b[0;31m---------------------------------------------------------------------------\u001b[0m",
      "\u001b[0;31mKeyboardInterrupt\u001b[0m                         Traceback (most recent call last)",
      "\u001b[0;32m<ipython-input-56-d7e7e36d0af9>\u001b[0m in \u001b[0;36m<module>\u001b[0;34m()\u001b[0m\n\u001b[1;32m      8\u001b[0m     \u001b[0;32mfor\u001b[0m \u001b[0mi\u001b[0m \u001b[0;32min\u001b[0m \u001b[0mrange\u001b[0m\u001b[0;34m(\u001b[0m\u001b[0mlen\u001b[0m\u001b[0;34m(\u001b[0m\u001b[0mR\u001b[0m\u001b[0;34m)\u001b[0m\u001b[0;34m)\u001b[0m\u001b[0;34m:\u001b[0m\u001b[0;34m\u001b[0m\u001b[0m\n\u001b[1;32m      9\u001b[0m         \u001b[0;32mfor\u001b[0m \u001b[0mj\u001b[0m \u001b[0;32min\u001b[0m \u001b[0mrange\u001b[0m\u001b[0;34m(\u001b[0m\u001b[0mlen\u001b[0m\u001b[0;34m(\u001b[0m\u001b[0mR\u001b[0m\u001b[0;34m[\u001b[0m\u001b[0mi\u001b[0m\u001b[0;34m]\u001b[0m\u001b[0;34m)\u001b[0m\u001b[0;34m)\u001b[0m\u001b[0;34m:\u001b[0m\u001b[0;34m\u001b[0m\u001b[0m\n\u001b[0;32m---> 10\u001b[0;31m             \u001b[0mR_temp\u001b[0m\u001b[0;34m[\u001b[0m\u001b[0mi\u001b[0m\u001b[0;34m]\u001b[0m\u001b[0;34m[\u001b[0m\u001b[0mj\u001b[0m\u001b[0;34m]\u001b[0m \u001b[0;34m=\u001b[0m \u001b[0mM\u001b[0m\u001b[0;34m(\u001b[0m\u001b[0mi\u001b[0m\u001b[0;34m,\u001b[0m \u001b[0mj\u001b[0m\u001b[0;34m)\u001b[0m\u001b[0;34m\u001b[0m\u001b[0m\n\u001b[0m\u001b[1;32m     11\u001b[0m \u001b[0;34m\u001b[0m\u001b[0m\n\u001b[1;32m     12\u001b[0m     \u001b[0mR\u001b[0m \u001b[0;34m=\u001b[0m \u001b[0mcopy\u001b[0m\u001b[0;34m.\u001b[0m\u001b[0mdeepcopy\u001b[0m\u001b[0;34m(\u001b[0m\u001b[0mR_temp\u001b[0m\u001b[0;34m)\u001b[0m\u001b[0;34m\u001b[0m\u001b[0m\n",
      "\u001b[0;32m<ipython-input-54-465c8ca2244e>\u001b[0m in \u001b[0;36mM\u001b[0;34m(movie, goerType)\u001b[0m\n\u001b[1;32m     12\u001b[0m     \u001b[0mden\u001b[0m \u001b[0;34m=\u001b[0m \u001b[0;36m0.0\u001b[0m\u001b[0;34m\u001b[0m\u001b[0m\n\u001b[1;32m     13\u001b[0m     \u001b[0;32mfor\u001b[0m \u001b[0mi\u001b[0m \u001b[0;32min\u001b[0m \u001b[0mrange\u001b[0m\u001b[0;34m(\u001b[0m\u001b[0mlen\u001b[0m\u001b[0;34m(\u001b[0m\u001b[0mratings\u001b[0m\u001b[0;34m)\u001b[0m\u001b[0;34m)\u001b[0m\u001b[0;34m:\u001b[0m\u001b[0;34m\u001b[0m\u001b[0m\n\u001b[0;32m---> 14\u001b[0;31m         \u001b[0mtemp\u001b[0m \u001b[0;34m=\u001b[0m \u001b[0mE\u001b[0m\u001b[0;34m(\u001b[0m\u001b[0mi\u001b[0m\u001b[0;34m,\u001b[0m \u001b[0mgoerType\u001b[0m\u001b[0;34m)\u001b[0m\u001b[0;34m\u001b[0m\u001b[0m\n\u001b[0m\u001b[1;32m     15\u001b[0m         \u001b[0mden\u001b[0m \u001b[0;34m+=\u001b[0m \u001b[0mtemp\u001b[0m\u001b[0;34m\u001b[0m\u001b[0m\n\u001b[1;32m     16\u001b[0m         \u001b[0;32mif\u001b[0m\u001b[0;34m(\u001b[0m\u001b[0mratings\u001b[0m\u001b[0;34m[\u001b[0m\u001b[0mi\u001b[0m\u001b[0;34m]\u001b[0m\u001b[0;34m[\u001b[0m\u001b[0mmovie\u001b[0m\u001b[0;34m]\u001b[0m \u001b[0;34m==\u001b[0m \u001b[0;34m\"1\"\u001b[0m\u001b[0;34m)\u001b[0m\u001b[0;34m:\u001b[0m\u001b[0;34m\u001b[0m\u001b[0m\n",
      "\u001b[0;32m<ipython-input-53-56e84e475dc9>\u001b[0m in \u001b[0;36mE\u001b[0;34m(student, goerType)\u001b[0m\n\u001b[1;32m     12\u001b[0m     \u001b[0mden\u001b[0m \u001b[0;34m=\u001b[0m \u001b[0;36m0.0\u001b[0m\u001b[0;34m\u001b[0m\u001b[0m\n\u001b[1;32m     13\u001b[0m     \u001b[0;32mfor\u001b[0m \u001b[0mi\u001b[0m \u001b[0;32min\u001b[0m \u001b[0mrange\u001b[0m\u001b[0;34m(\u001b[0m\u001b[0;36m0\u001b[0m\u001b[0;34m,\u001b[0m \u001b[0;36m4\u001b[0m\u001b[0;34m)\u001b[0m\u001b[0;34m:\u001b[0m\u001b[0;34m\u001b[0m\u001b[0m\n\u001b[0;32m---> 14\u001b[0;31m         \u001b[0mden\u001b[0m \u001b[0;34m+=\u001b[0m \u001b[0mZ\u001b[0m\u001b[0;34m[\u001b[0m\u001b[0mi\u001b[0m\u001b[0;34m]\u001b[0m\u001b[0;34m*\u001b[0m\u001b[0mEHelp\u001b[0m\u001b[0;34m(\u001b[0m\u001b[0mstudent\u001b[0m\u001b[0;34m,\u001b[0m \u001b[0mi\u001b[0m\u001b[0;34m)\u001b[0m\u001b[0;34m\u001b[0m\u001b[0m\n\u001b[0m\u001b[1;32m     15\u001b[0m     \u001b[0;32mreturn\u001b[0m \u001b[0mnum\u001b[0m\u001b[0;34m/\u001b[0m\u001b[0mden\u001b[0m\u001b[0;34m\u001b[0m\u001b[0m\n",
      "\u001b[0;32m<ipython-input-53-56e84e475dc9>\u001b[0m in \u001b[0;36mEHelp\u001b[0;34m(student, goerType)\u001b[0m\n\u001b[1;32m      2\u001b[0m     \u001b[0mtemp\u001b[0m \u001b[0;34m=\u001b[0m \u001b[0;36m1.0\u001b[0m\u001b[0;34m\u001b[0m\u001b[0m\n\u001b[1;32m      3\u001b[0m     \u001b[0;32mfor\u001b[0m \u001b[0mi\u001b[0m \u001b[0;32min\u001b[0m \u001b[0mrange\u001b[0m\u001b[0;34m(\u001b[0m\u001b[0mlen\u001b[0m\u001b[0;34m(\u001b[0m\u001b[0mratings\u001b[0m\u001b[0;34m[\u001b[0m\u001b[0mstudent\u001b[0m\u001b[0;34m]\u001b[0m\u001b[0;34m)\u001b[0m\u001b[0;34m)\u001b[0m\u001b[0;34m:\u001b[0m\u001b[0;34m\u001b[0m\u001b[0m\n\u001b[0;32m----> 4\u001b[0;31m         \u001b[0;32mif\u001b[0m\u001b[0;34m(\u001b[0m\u001b[0mratings\u001b[0m\u001b[0;34m[\u001b[0m\u001b[0mstudent\u001b[0m\u001b[0;34m]\u001b[0m\u001b[0;34m[\u001b[0m\u001b[0mi\u001b[0m\u001b[0;34m]\u001b[0m \u001b[0;34m==\u001b[0m \u001b[0;34m\"1\"\u001b[0m\u001b[0;34m)\u001b[0m\u001b[0;34m:\u001b[0m\u001b[0;34m\u001b[0m\u001b[0m\n\u001b[0m\u001b[1;32m      5\u001b[0m             \u001b[0mtemp\u001b[0m \u001b[0;34m*=\u001b[0m \u001b[0mR\u001b[0m\u001b[0;34m[\u001b[0m\u001b[0mi\u001b[0m\u001b[0;34m]\u001b[0m\u001b[0;34m[\u001b[0m\u001b[0mgoerType\u001b[0m\u001b[0;34m]\u001b[0m\u001b[0;34m\u001b[0m\u001b[0m\n\u001b[1;32m      6\u001b[0m         \u001b[0;32melif\u001b[0m\u001b[0;34m(\u001b[0m\u001b[0mratings\u001b[0m\u001b[0;34m[\u001b[0m\u001b[0mstudent\u001b[0m\u001b[0;34m]\u001b[0m\u001b[0;34m[\u001b[0m\u001b[0mi\u001b[0m\u001b[0;34m]\u001b[0m \u001b[0;34m==\u001b[0m \u001b[0;34m\"0\"\u001b[0m\u001b[0;34m)\u001b[0m\u001b[0;34m:\u001b[0m\u001b[0;34m\u001b[0m\u001b[0m\n",
      "\u001b[0;31mKeyboardInterrupt\u001b[0m: "
     ]
    }
   ],
   "source": [
    "for i in range(0, 65):\n",
    "    print Z\n",
    "    print(i, ll())\n",
    "    Z_temp = copy.deepcopy(Z)\n",
    "    Z_temp = [Zeqi(i) for i in range(len(Z))]\n",
    "    \n",
    "    R_temp = copy.deepcopy(R)\n",
    "    for i in range(len(R)):\n",
    "        for j in range(len(R[i])):\n",
    "            R_temp[i][j] = M(i, j)\n",
    "            \n",
    "    R = copy.deepcopy(R_temp)\n",
    "    Z = copy.deepcopy(Z_temp)"
   ]
  },
  {
   "cell_type": "code",
   "execution_count": 7,
   "metadata": {},
   "outputs": [
    {
     "name": "stdout",
     "output_type": "stream",
     "text": [
      "['Her', 0.99993033508749019]\n",
      "['The Perks of Being a Wallflower', 0.99965664697391121]\n",
      "['Drive', 0.85338069695785979]\n",
      "['Black Swan', 0.82057471088756406]\n",
      "['Midnight in Paris', 0.81097713972950258]\n",
      "['The Girls with the Dragon Tattoo', 0.78188431911791179]\n",
      "['Ex Machina', 0.77050120340822548]\n",
      "['The Revenant', 0.64353879775903167]\n",
      "['Magic Mike', 0.61535804930388549]\n",
      "['Django Unchained', 0.60517397563638076]\n",
      "['Frozen', 0.55933080631286947]\n",
      "['21 Jump Street', 0.55543876839727202]\n",
      "['Man of Steel', 0.4886446463388977]\n",
      "['Prometheus', 0.48680614967541502]\n",
      "['Fast Five', 0.46191467110321]\n",
      "['Pitch Perfect', 0.42248333432652807]\n",
      "['Toy Story 3', 0.32290757987604202]\n",
      "['Room', 0.29918808014934095]\n",
      "['World War Z', 0.2315131763433364]\n",
      "['The Help', 0.010769852355848491]\n"
     ]
    }
   ],
   "source": [
    "mine = []\n",
    "with open(\"hw8_studentPIDs.txt\") as f:\n",
    "    ids = [x.strip() for x in f.readlines()]\n",
    "index = ids.index(\"A53235789\")\n",
    "\n",
    "for i in range(len(ratings[0])):\n",
    "    s = 0.0\n",
    "    if(ratings[index][i] == \"?\"):\n",
    "        for j in range(0, 4):\n",
    "            s += E(index, j)*R[i][j]\n",
    "        mine.append([movies[i], s])\n",
    "        \n",
    "mine = sorted(mine, key=lambda tup: tup[1], reverse=True) \n",
    "for x in mine:\n",
    "    print(x)"
   ]
  },
  {
   "cell_type": "code",
   "execution_count": null,
   "metadata": {
    "collapsed": true
   },
   "outputs": [],
   "source": []
  },
  {
   "cell_type": "code",
   "execution_count": null,
   "metadata": {
    "collapsed": true
   },
   "outputs": [],
   "source": []
  },
  {
   "cell_type": "code",
   "execution_count": 223,
   "metadata": {
    "collapsed": true
   },
   "outputs": [],
   "source": []
  },
  {
   "cell_type": "code",
   "execution_count": null,
   "metadata": {
    "collapsed": true
   },
   "outputs": [],
   "source": []
  }
 ],
 "metadata": {
  "kernelspec": {
   "display_name": "Python 2",
   "language": "python",
   "name": "python2"
  },
  "language_info": {
   "codemirror_mode": {
    "name": "ipython",
    "version": 2
   },
   "file_extension": ".py",
   "mimetype": "text/x-python",
   "name": "python",
   "nbconvert_exporter": "python",
   "pygments_lexer": "ipython2",
   "version": "2.7.13"
  }
 },
 "nbformat": 4,
 "nbformat_minor": 2
}
