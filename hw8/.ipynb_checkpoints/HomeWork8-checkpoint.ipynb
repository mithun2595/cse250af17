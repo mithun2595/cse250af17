{
 "cells": [
  {
   "cell_type": "code",
   "execution_count": 1,
   "metadata": {
    "collapsed": true
   },
   "outputs": [],
   "source": [
    "from collections import defaultdict\n",
    "import copy\n",
    "import numpy as np\n",
    "import math\n",
    "movies = []\n",
    "\n",
    "Z = np.loadtxt(\"hw8_probZ_init.txt\")\n",
    "R = np.loadtxt(\"hw8_probRgivenZ_init.txt\")\n",
    "ratings = []\n",
    "movies = []\n",
    "with open(\"hw8_movieTitles.txt\") as f:\n",
    "    movies = [x.strip().replace(\"_\", \" \") for x in f.readlines()]\n",
    "movie = [defaultdict() for x in movies]\n",
    "\n",
    "with open(\"hw8_ratings.txt\") as f:\n",
    "    lines = f.readlines()\n",
    "    for line in lines:\n",
    "        temp = line.strip().split(' ')\n",
    "        ratings.append(temp)\n",
    "        for x in range(len(temp)):\n",
    "            if temp[x] != \"?\":\n",
    "                if \"recom\" not in movie[int(x)]:\n",
    "                    movie[int(x)][\"recom\"]  = 0\n",
    "                    movie[int(x)][\"seen\"]  = 0\n",
    "                movie[int(x)][\"recom\"] += int(temp[x])\n",
    "                movie[int(x)][\"seen\"] += 1\n",
    "\n",
    "sanity = []\n",
    "for x in range(len(movie)):\n",
    "    sanity.append(tuple([movies[x], (movie[x][\"recom\"]/movie[x][\"seen\"])]))\n",
    "sanity = sorted(sanity, key=lambda tup: tup[1], reverse=True)    "
   ]
  },
  {
   "cell_type": "code",
   "execution_count": 2,
   "metadata": {
    "collapsed": true
   },
   "outputs": [],
   "source": [
    "# for x in sanity:\n",
    "#     print(x)"
   ]
  },
  {
   "cell_type": "code",
   "execution_count": 3,
   "metadata": {
    "collapsed": true
   },
   "outputs": [],
   "source": [
    "def EHelp(student, goerType):\n",
    "    temp = 1.0\n",
    "    for i in range(len(ratings[student])):\n",
    "        if(ratings[student][i] == \"1\"):\n",
    "            temp *= R[i][goerType]\n",
    "        elif(ratings[student][i] == \"0\"):\n",
    "            temp *= (1 - R[i][goerType])\n",
    "    return temp\n",
    "\n",
    "def E(student, goerType):\n",
    "    num = Z[goerType]*EHelp(student, goerType)\n",
    "    den = 0.0\n",
    "    for i in range(0, 4):\n",
    "        den += Z[i]*EHelp(student, i)\n",
    "    return num/den"
   ]
  },
  {
   "cell_type": "code",
   "execution_count": 4,
   "metadata": {
    "collapsed": true
   },
   "outputs": [],
   "source": [
    "def Zeqi(goerType):\n",
    "    temp = 0.0\n",
    "    for i in range(0, len(ratings)):\n",
    "        temp += E(i, goerType)\n",
    "    return temp/len(ratings)\n",
    "\n",
    "def M(movie, goerType):\n",
    "    ans = 0.0\n",
    "    den = 0.0\n",
    "    for i in range(len(ratings)):\n",
    "        temp = E(i, goerType)\n",
    "        den += temp      \n",
    "        if(ratings[i][movie] == \"1\"):\n",
    "             ans += temp\n",
    "        elif(ratings[i][movie] == \"?\"):\n",
    "            ans += temp*R[movie][goerType]\n",
    "    return ans/den"
   ]
  },
  {
   "cell_type": "code",
   "execution_count": 5,
   "metadata": {
    "collapsed": true
   },
   "outputs": [],
   "source": [
    "def ll():\n",
    "    ans = 0.0\n",
    "    for i in range(0, len(ratings)):\n",
    "        t = 0.0\n",
    "        for j in range(0, 4):\n",
    "            prod = 1.0\n",
    "            for k, movieRating in enumerate(ratings[i]):\n",
    "                if movieRating == \"0\":\n",
    "                    prod *= (1 - R[k][j])\n",
    "                if movieRating == \"1\":\n",
    "                    prod *= R[k][j]\n",
    "            t += prod*Z[j]\n",
    "        ans += math.log(t)\n",
    "    return ans/len(ratings)"
   ]
  },
  {
   "cell_type": "code",
   "execution_count": 6,
   "metadata": {},
   "outputs": [
    {
     "name": "stdout",
     "output_type": "stream",
     "text": [
      "0 -23.68194303920656\n",
      "1 -14.342138732059837\n",
      "2 -12.909592229693581\n",
      "3 -12.390960695569435\n",
      "4 -12.15061981794007\n",
      "5 -12.03176062583512\n",
      "6 -11.960644019670976\n",
      "7 -11.908848657157032\n",
      "8 -11.867860888836635\n",
      "9 -11.83388267400913\n",
      "10 -11.804593081398394\n",
      "11 -11.778705714390101\n",
      "12 -11.755106316683584\n",
      "13 -11.733413153894416\n",
      "14 -11.713950522388863\n",
      "15 -11.696950121777396\n",
      "16 -11.682204313006869\n",
      "17 -11.668285628739405\n",
      "18 -11.654498444787583\n",
      "19 -11.64160793519734\n",
      "20 -11.630481743512355\n",
      "21 -11.620730278967114\n",
      "22 -11.60984936605054\n",
      "23 -11.596580861319254\n",
      "24 -11.586600888666457\n",
      "25 -11.580182100705146\n",
      "26 -11.57601617863101\n",
      "27 -11.573148132356842\n",
      "28 -11.571006520139377\n",
      "29 -11.569276690641956\n",
      "30 -11.567808285296943\n",
      "31 -11.566546398437472\n",
      "32 -11.565450274671578\n",
      "33 -11.564437191089352\n",
      "34 -11.563374638237677\n",
      "35 -11.562082886533844\n",
      "36 -11.560352430154955\n",
      "37 -11.558050271014764\n",
      "38 -11.55532778166707\n",
      "39 -11.552676860808665\n",
      "40 -11.550510152897992\n",
      "41 -11.548895801784521\n",
      "42 -11.547730013045143\n",
      "43 -11.546876076291397\n",
      "44 -11.546220589690794\n",
      "45 -11.545685665067177\n",
      "46 -11.545220737606662\n",
      "47 -11.54479221700967\n",
      "48 -11.544377277250764\n",
      "49 -11.543962252746242\n",
      "50 -11.543543808467176\n",
      "51 -11.543129117511482\n",
      "52 -11.542731620059392\n",
      "53 -11.542363850229867\n",
      "54 -11.542032674943899\n",
      "55 -11.541739096002722\n",
      "56 -11.541480267416455\n",
      "57 -11.541251420402848\n",
      "58 -11.541047196162307\n",
      "59 -11.54086256765094\n",
      "60 -11.540693437794104\n",
      "61 -11.540536900968098\n",
      "62 -11.540391188558589\n",
      "63 -11.54025539679608\n",
      "64 -11.540129139078093\n"
     ]
    }
   ],
   "source": [
    "for i in range(0, 65):\n",
    "    print(i, ll())\n",
    "    Z_temp = copy.deepcopy(Z)\n",
    "    Z_temp = [Zeqi(i) for i in range(len(Z))]\n",
    "\n",
    "    R_temp = copy.deepcopy(R)\n",
    "    for i in range(len(R)):\n",
    "        for j in range(len(R[i])):\n",
    "            R_temp[i][j] = M(i, j)\n",
    "            \n",
    "    R = copy.deepcopy(R_temp)\n",
    "    Z = copy.deepcopy(Z_temp)"
   ]
  },
  {
   "cell_type": "code",
   "execution_count": 7,
   "metadata": {},
   "outputs": [
    {
     "name": "stdout",
     "output_type": "stream",
     "text": [
      "['Her', 0.99993033508749019]\n",
      "['The Perks of Being a Wallflower', 0.99965664697391121]\n",
      "['Drive', 0.85338069695785979]\n",
      "['Black Swan', 0.82057471088756406]\n",
      "['Midnight in Paris', 0.81097713972950258]\n",
      "['The Girls with the Dragon Tattoo', 0.78188431911791179]\n",
      "['Ex Machina', 0.77050120340822548]\n",
      "['The Revenant', 0.64353879775903167]\n",
      "['Magic Mike', 0.61535804930388549]\n",
      "['Django Unchained', 0.60517397563638076]\n",
      "['Frozen', 0.55933080631286947]\n",
      "['21 Jump Street', 0.55543876839727202]\n",
      "['Man of Steel', 0.4886446463388977]\n",
      "['Prometheus', 0.48680614967541502]\n",
      "['Fast Five', 0.46191467110321]\n",
      "['Pitch Perfect', 0.42248333432652807]\n",
      "['Toy Story 3', 0.32290757987604202]\n",
      "['Room', 0.29918808014934095]\n",
      "['World War Z', 0.2315131763433364]\n",
      "['The Help', 0.010769852355848491]\n"
     ]
    }
   ],
   "source": [
    "mine = []\n",
    "with open(\"hw8_studentPIDs.txt\") as f:\n",
    "    ids = [x.strip() for x in f.readlines()]\n",
    "index = ids.index(\"A53235789\")\n",
    "\n",
    "for i in range(len(ratings[0])):\n",
    "    s = 0.0\n",
    "    if(ratings[index][i] == \"?\"):\n",
    "        for j in range(0, 4):\n",
    "            s += E(index, j)*R[i][j]\n",
    "        mine.append([movies[i], s])\n",
    "        \n",
    "mine = sorted(mine, key=lambda tup: tup[1], reverse=True) \n",
    "for x in mine:\n",
    "    print(x)"
   ]
  },
  {
   "cell_type": "code",
   "execution_count": null,
   "metadata": {
    "collapsed": true
   },
   "outputs": [],
   "source": []
  },
  {
   "cell_type": "code",
   "execution_count": null,
   "metadata": {
    "collapsed": true
   },
   "outputs": [],
   "source": []
  },
  {
   "cell_type": "code",
   "execution_count": 223,
   "metadata": {
    "collapsed": true
   },
   "outputs": [],
   "source": []
  },
  {
   "cell_type": "code",
   "execution_count": null,
   "metadata": {
    "collapsed": true
   },
   "outputs": [],
   "source": []
  }
 ],
 "metadata": {
  "kernelspec": {
   "display_name": "Python 2",
   "language": "python",
   "name": "python2"
  },
  "language_info": {
   "codemirror_mode": {
    "name": "ipython",
    "version": 2
   },
   "file_extension": ".py",
   "mimetype": "text/x-python",
   "name": "python",
   "nbconvert_exporter": "python",
   "pygments_lexer": "ipython2",
   "version": "2.7.13"
  }
 },
 "nbformat": 4,
 "nbformat_minor": 2
}
